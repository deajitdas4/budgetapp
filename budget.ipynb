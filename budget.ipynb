{
 "cells": [
  {
   "cell_type": "code",
   "execution_count": 1,
   "metadata": {},
   "outputs": [],
   "source": [
    "import pandas as pd"
   ]
  },
  {
   "cell_type": "code",
   "execution_count": 24,
   "metadata": {},
   "outputs": [
    {
     "name": "stdout",
     "output_type": "stream",
     "text": [
      "  UserID  Salary  Fixed_Rent    EMI  Groceries  Subscriptions  UPI_Spent  \\\n",
      "0   U001   76785       22619  11184       7879         2638.0      13233   \n",
      "1   U002   38666       11007   3701       3401         1082.0       5150   \n",
      "2   U003   38961       12952   4376       3640            NaN       8641   \n",
      "3   U004   40944       12432   3070       3346         2924.0       9441   \n",
      "4   U005  121092       34592  13396      12007            NaN      26133   \n",
      "\n",
      "   CreditCard_Spent  Utilities  Investment_Percentage Month  \n",
      "0             15721       4855                     24   Oct  \n",
      "1              4794       6189                     23   Jul  \n",
      "2              8879       3946                     30   Apr  \n",
      "3              4171       4737                     12   Sep  \n",
      "4             28318       4682                     24   Feb  \n"
     ]
    }
   ],
   "source": [
    "df = pd.read_csv(\"synthetic_budget_data.csv\")\n",
    "print(df.head())"
   ]
  },
  {
   "cell_type": "code",
   "execution_count": 25,
   "metadata": {},
   "outputs": [
    {
     "name": "stdout",
     "output_type": "stream",
     "text": [
      "<class 'pandas.core.frame.DataFrame'>\n",
      "RangeIndex: 1000 entries, 0 to 999\n",
      "Data columns (total 11 columns):\n",
      " #   Column                 Non-Null Count  Dtype  \n",
      "---  ------                 --------------  -----  \n",
      " 0   UserID                 1000 non-null   object \n",
      " 1   Salary                 1000 non-null   int64  \n",
      " 2   Fixed_Rent             1000 non-null   int64  \n",
      " 3   EMI                    1000 non-null   int64  \n",
      " 4   Groceries              1000 non-null   int64  \n",
      " 5   Subscriptions          830 non-null    float64\n",
      " 6   UPI_Spent              1000 non-null   int64  \n",
      " 7   CreditCard_Spent       1000 non-null   int64  \n",
      " 8   Utilities              1000 non-null   int64  \n",
      " 9   Investment_Percentage  1000 non-null   int64  \n",
      " 10  Month                  1000 non-null   object \n",
      "dtypes: float64(1), int64(8), object(2)\n",
      "memory usage: 86.1+ KB\n",
      "None\n"
     ]
    }
   ],
   "source": [
    "print(df.info())"
   ]
  },
  {
   "cell_type": "code",
   "execution_count": 26,
   "metadata": {},
   "outputs": [
    {
     "name": "stdout",
     "output_type": "stream",
     "text": [
      "UserID                     0\n",
      "Salary                     0\n",
      "Fixed_Rent                 0\n",
      "EMI                        0\n",
      "Groceries                  0\n",
      "Subscriptions            170\n",
      "UPI_Spent                  0\n",
      "CreditCard_Spent           0\n",
      "Utilities                  0\n",
      "Investment_Percentage      0\n",
      "Month                      0\n",
      "dtype: int64\n"
     ]
    }
   ],
   "source": [
    "print(df.isnull().sum())"
   ]
  },
  {
   "cell_type": "code",
   "execution_count": null,
   "metadata": {},
   "outputs": [],
   "source": []
  }
 ],
 "metadata": {
  "kernelspec": {
   "display_name": "Python 3",
   "language": "python",
   "name": "python3"
  },
  "language_info": {
   "codemirror_mode": {
    "name": "ipython",
    "version": 3
   },
   "file_extension": ".py",
   "mimetype": "text/x-python",
   "name": "python",
   "nbconvert_exporter": "python",
   "pygments_lexer": "ipython3",
   "version": "3.13.1"
  }
 },
 "nbformat": 4,
 "nbformat_minor": 2
}
