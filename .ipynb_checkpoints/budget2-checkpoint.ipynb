{
 "cells": [
  {
   "cell_type": "code",
   "execution_count": 402,
   "metadata": {},
   "outputs": [],
   "source": [
    "import pandas as pd\n",
    "import numpy as np\n",
    "import matplotlib.pyplot as plt\n",
    "import seaborn as sns"
   ]
  },
  {
   "cell_type": "code",
   "execution_count": 403,
   "metadata": {},
   "outputs": [],
   "source": [
    "import xgboost as xgb\n",
    "import optuna\n",
    "from sklearn.model_selection import TimeSeriesSplit\n",
    "from sklearn.metrics import mean_absolute_error\n",
    "from sklearn.metrics import mean_absolute_error, mean_squared_error, r2_score\n",
    "from sklearn.model_selection import TimeSeriesSplit"
   ]
  },
  {
   "cell_type": "code",
   "execution_count": 404,
   "metadata": {},
   "outputs": [
    {
     "name": "stdout",
     "output_type": "stream",
     "text": [
      "  User_ID  Year  Month                               Scenario  Salary  \\\n",
      "0    U001  2024      1  Stable Salary & Stable Fixed Expenses   86596   \n",
      "1    U001  2024      2  Stable Salary & Stable Fixed Expenses   86596   \n",
      "2    U001  2024      3  Stable Salary & Stable Fixed Expenses   86596   \n",
      "3    U001  2024      4  Stable Salary & Stable Fixed Expenses   86596   \n",
      "4    U001  2024      5  Stable Salary & Stable Fixed Expenses   86596   \n",
      "\n",
      "   Fixed_Expenses  Variable_Expenses  Total_Expenses  Savings  Savings_Rate  \\\n",
      "0         26645.0              55873         82518.0   4078.0          4.71   \n",
      "1         26645.0              67652         94297.0  -7701.0         -8.89   \n",
      "2         26645.0              61553         88198.0  -1602.0         -1.85   \n",
      "3         26645.0              67360         94005.0  -7409.0         -8.56   \n",
      "4         26645.0              67857         94502.0  -7906.0         -9.13   \n",
      "\n",
      "   Expense_Fluctuation Risk_Category  \n",
      "0                 0.02     High Risk  \n",
      "1                -0.03     High Risk  \n",
      "2                -0.04     High Risk  \n",
      "3                -0.04     High Risk  \n",
      "4                 0.01     High Risk  \n"
     ]
    }
   ],
   "source": [
    "# Load the dataset\n",
    "file_path = \"synthetic_budget_data.csv\"  # Change this to your actual file path\n",
    "df = pd.read_csv(file_path)\n",
    "print(df.head())"
   ]
  },
  {
   "cell_type": "code",
   "execution_count": 405,
   "metadata": {},
   "outputs": [
    {
     "name": "stdout",
     "output_type": "stream",
     "text": [
      "  User_ID  Year  Month                               Scenario  Salary  \\\n",
      "0    U001  2024      1  Stable Salary & Stable Fixed Expenses   86596   \n",
      "1    U001  2024      2  Stable Salary & Stable Fixed Expenses   86596   \n",
      "2    U001  2024      3  Stable Salary & Stable Fixed Expenses   86596   \n",
      "3    U001  2024      4  Stable Salary & Stable Fixed Expenses   86596   \n",
      "4    U001  2024      5  Stable Salary & Stable Fixed Expenses   86596   \n",
      "\n",
      "   Fixed_Expenses  Variable_Expenses  Total_Expenses  Savings  Savings_Rate  \\\n",
      "0         26645.0              55873         82518.0   4078.0          4.71   \n",
      "1         26645.0              67652         94297.0  -7701.0         -8.89   \n",
      "2         26645.0              61553         88198.0  -1602.0         -1.85   \n",
      "3         26645.0              67360         94005.0  -7409.0         -8.56   \n",
      "4         26645.0              67857         94502.0  -7906.0         -9.13   \n",
      "\n",
      "   Expense_Fluctuation Risk_Category       Date  \n",
      "0                 0.02     High Risk 2024-01-01  \n",
      "1                -0.03     High Risk 2024-02-01  \n",
      "2                -0.04     High Risk 2024-03-01  \n",
      "3                -0.04     High Risk 2024-04-01  \n",
      "4                 0.01     High Risk 2024-05-01  \n"
     ]
    }
   ],
   "source": [
    "# Convert Year and Month into a datetime format\n",
    "df['Date'] = pd.to_datetime(df[['Year', 'Month']].assign(day=1))\n",
    "print(df.head())"
   ]
  },
  {
   "cell_type": "code",
   "execution_count": 406,
   "metadata": {},
   "outputs": [
    {
     "name": "stdout",
     "output_type": "stream",
     "text": [
      "  User_ID  Year  Month                               Scenario  Salary  \\\n",
      "0    U001  2024      1  Stable Salary & Stable Fixed Expenses   86596   \n",
      "1    U001  2024      2  Stable Salary & Stable Fixed Expenses   86596   \n",
      "2    U001  2024      3  Stable Salary & Stable Fixed Expenses   86596   \n",
      "3    U001  2024      4  Stable Salary & Stable Fixed Expenses   86596   \n",
      "4    U001  2024      5  Stable Salary & Stable Fixed Expenses   86596   \n",
      "\n",
      "   Fixed_Expenses  Variable_Expenses  Total_Expenses  Savings  Savings_Rate  \\\n",
      "0         26645.0              55873         82518.0   4078.0          4.71   \n",
      "1         26645.0              67652         94297.0  -7701.0         -8.89   \n",
      "2         26645.0              61553         88198.0  -1602.0         -1.85   \n",
      "3         26645.0              67360         94005.0  -7409.0         -8.56   \n",
      "4         26645.0              67857         94502.0  -7906.0         -9.13   \n",
      "\n",
      "   Expense_Fluctuation Risk_Category       Date  \n",
      "0                 0.02     High Risk 2024-01-01  \n",
      "1                -0.03     High Risk 2024-02-01  \n",
      "2                -0.04     High Risk 2024-03-01  \n",
      "3                -0.04     High Risk 2024-04-01  \n",
      "4                 0.01     High Risk 2024-05-01  \n"
     ]
    }
   ],
   "source": [
    "# Sort by User_ID and Date to ensure time-sequencing\n",
    "df = df.sort_values(by=['User_ID', 'Date']).reset_index(drop=True)\n",
    "print(df.head())"
   ]
  },
  {
   "cell_type": "code",
   "execution_count": 407,
   "metadata": {},
   "outputs": [
    {
     "name": "stdout",
     "output_type": "stream",
     "text": [
      "  User_ID  Year  Month                               Scenario  Salary  \\\n",
      "0    U001  2024      1  Stable Salary & Stable Fixed Expenses   86596   \n",
      "1    U001  2024      2  Stable Salary & Stable Fixed Expenses   86596   \n",
      "2    U001  2024      3  Stable Salary & Stable Fixed Expenses   86596   \n",
      "3    U001  2024      4  Stable Salary & Stable Fixed Expenses   86596   \n",
      "4    U001  2024      5  Stable Salary & Stable Fixed Expenses   86596   \n",
      "\n",
      "   Fixed_Expenses  Variable_Expenses  Total_Expenses  Savings  Savings_Rate  \\\n",
      "0         26645.0              55873         82518.0   4078.0          4.71   \n",
      "1         26645.0              67652         94297.0  -7701.0         -8.89   \n",
      "2         26645.0              61553         88198.0  -1602.0         -1.85   \n",
      "3         26645.0              67360         94005.0  -7409.0         -8.56   \n",
      "4         26645.0              67857         94502.0  -7906.0         -9.13   \n",
      "\n",
      "   Expense_Fluctuation Risk_Category       Date  Festive_Season  \n",
      "0                 0.02     High Risk 2024-01-01               0  \n",
      "1                -0.03     High Risk 2024-02-01               1  \n",
      "2                -0.04     High Risk 2024-03-01               1  \n",
      "3                -0.04     High Risk 2024-04-01               0  \n",
      "4                 0.01     High Risk 2024-05-01               0  \n"
     ]
    }
   ],
   "source": [
    "# Define festive months based on your dataset\n",
    "festive_months = [2, 3, 9, 10, 11, 12]  # Feb, March, Sep, Oct, Nov, Dec\n",
    "\n",
    "# Add Seasonality Indicator (1 = Festive Season, 0 = Normal Months)\n",
    "df['Festive_Season'] = df['Month'].apply(lambda x: 1 if x in festive_months else 0)\n",
    "print(df.head())"
   ]
  },
  {
   "cell_type": "code",
   "execution_count": 408,
   "metadata": {},
   "outputs": [
    {
     "name": "stdout",
     "output_type": "stream",
     "text": [
      "  User_ID  Year  Month                               Scenario  Salary  \\\n",
      "0    U001  2024      1  Stable Salary & Stable Fixed Expenses   86596   \n",
      "1    U001  2024      2  Stable Salary & Stable Fixed Expenses   86596   \n",
      "2    U001  2024      3  Stable Salary & Stable Fixed Expenses   86596   \n",
      "3    U001  2024      4  Stable Salary & Stable Fixed Expenses   86596   \n",
      "4    U001  2024      5  Stable Salary & Stable Fixed Expenses   86596   \n",
      "\n",
      "   Fixed_Expenses  Variable_Expenses  Total_Expenses  Savings  Savings_Rate  \\\n",
      "0         26645.0              55873         82518.0   4078.0          4.71   \n",
      "1         26645.0              67652         94297.0  -7701.0         -8.89   \n",
      "2         26645.0              61553         88198.0  -1602.0         -1.85   \n",
      "3         26645.0              67360         94005.0  -7409.0         -8.56   \n",
      "4         26645.0              67857         94502.0  -7906.0         -9.13   \n",
      "\n",
      "   Expense_Fluctuation Risk_Category       Date  Festive_Season  \\\n",
      "0                 0.02     High Risk 2024-01-01               0   \n",
      "1                -0.03     High Risk 2024-02-01               1   \n",
      "2                -0.04     High Risk 2024-03-01               1   \n",
      "3                -0.04     High Risk 2024-04-01               0   \n",
      "4                 0.01     High Risk 2024-05-01               0   \n",
      "\n",
      "   Savings_Lag_1  Savings_Lag_2  \n",
      "0            NaN            NaN  \n",
      "1         4078.0            NaN  \n",
      "2        -7701.0         4078.0  \n",
      "3        -1602.0        -7701.0  \n",
      "4        -7409.0        -1602.0  \n"
     ]
    }
   ],
   "source": [
    "# Creating lag features for savings (previous month savings)\n",
    "df['Savings_Lag_1'] = df.groupby('User_ID')['Savings'].shift(1)\n",
    "df['Savings_Lag_2'] = df.groupby('User_ID')['Savings'].shift(2)\n",
    "# df['Savings_Lag_3'] = df.groupby('User_ID')['Savings'].shift(3)\n",
    "print(df.head())"
   ]
  },
  {
   "cell_type": "code",
   "execution_count": 409,
   "metadata": {},
   "outputs": [],
   "source": [
    "# Rolling mean of savings over the last 3 months\n",
    "df['Savings_Rolling_Mean_3'] = df.groupby('User_ID')['Savings'].rolling(window=3).mean().reset_index(0, drop=True)"
   ]
  },
  {
   "cell_type": "code",
   "execution_count": 410,
   "metadata": {},
   "outputs": [
    {
     "name": "stdout",
     "output_type": "stream",
     "text": [
      "  User_ID  Year  Month                               Scenario  Salary  \\\n",
      "0    U001  2024      1  Stable Salary & Stable Fixed Expenses   86596   \n",
      "1    U001  2024      2  Stable Salary & Stable Fixed Expenses   86596   \n",
      "2    U001  2024      3  Stable Salary & Stable Fixed Expenses   86596   \n",
      "3    U001  2024      4  Stable Salary & Stable Fixed Expenses   86596   \n",
      "4    U001  2024      5  Stable Salary & Stable Fixed Expenses   86596   \n",
      "\n",
      "   Fixed_Expenses  Variable_Expenses  Total_Expenses  Savings  Savings_Rate  \\\n",
      "0         26645.0              55873         82518.0   4078.0          4.71   \n",
      "1         26645.0              67652         94297.0  -7701.0         -8.89   \n",
      "2         26645.0              61553         88198.0  -1602.0         -1.85   \n",
      "3         26645.0              67360         94005.0  -7409.0         -8.56   \n",
      "4         26645.0              67857         94502.0  -7906.0         -9.13   \n",
      "\n",
      "   Expense_Fluctuation Risk_Category       Date  Festive_Season  \\\n",
      "0                 0.02     High Risk 2024-01-01               0   \n",
      "1                -0.03     High Risk 2024-02-01               1   \n",
      "2                -0.04     High Risk 2024-03-01               1   \n",
      "3                -0.04     High Risk 2024-04-01               0   \n",
      "4                 0.01     High Risk 2024-05-01               0   \n",
      "\n",
      "   Savings_Lag_1  Savings_Lag_2  Savings_Rolling_Mean_3  \\\n",
      "0            NaN            NaN                     NaN   \n",
      "1         4078.0            NaN                     NaN   \n",
      "2        -7701.0         4078.0            -1741.666667   \n",
      "3        -1602.0        -7701.0            -5570.666667   \n",
      "4        -7409.0        -1602.0            -5639.000000   \n",
      "\n",
      "   Expense_to_Salary_Ratio  \n",
      "0                 0.952908  \n",
      "1                 1.088930  \n",
      "2                 1.018500  \n",
      "3                 1.085558  \n",
      "4                 1.091298  \n"
     ]
    }
   ],
   "source": [
    "# Creating expense-to-salary ratio\n",
    "df['Expense_to_Salary_Ratio'] = df['Total_Expenses'] / df['Salary']\n",
    "print(df.head())"
   ]
  },
  {
   "cell_type": "code",
   "execution_count": 411,
   "metadata": {},
   "outputs": [],
   "source": [
    "# # One-hot encoding for Scenario and Risk_Category\n",
    "# df = pd.get_dummies(df, columns=['Scenario', 'Risk_Category'], drop_first=True)"
   ]
  },
  {
   "cell_type": "code",
   "execution_count": 412,
   "metadata": {},
   "outputs": [
    {
     "name": "stdout",
     "output_type": "stream",
     "text": [
      "  User_ID  Year  Month                               Scenario  Salary  \\\n",
      "0    U001  2024      1  Stable Salary & Stable Fixed Expenses   86596   \n",
      "1    U001  2024      2  Stable Salary & Stable Fixed Expenses   86596   \n",
      "2    U001  2024      3  Stable Salary & Stable Fixed Expenses   86596   \n",
      "3    U001  2024      4  Stable Salary & Stable Fixed Expenses   86596   \n",
      "4    U001  2024      5  Stable Salary & Stable Fixed Expenses   86596   \n",
      "\n",
      "   Fixed_Expenses  Variable_Expenses  Total_Expenses  Savings  Savings_Rate  \\\n",
      "0         26645.0              55873         82518.0   4078.0          4.71   \n",
      "1         26645.0              67652         94297.0  -7701.0         -8.89   \n",
      "2         26645.0              61553         88198.0  -1602.0         -1.85   \n",
      "3         26645.0              67360         94005.0  -7409.0         -8.56   \n",
      "4         26645.0              67857         94502.0  -7906.0         -9.13   \n",
      "\n",
      "   Expense_Fluctuation Risk_Category       Date  Festive_Season  \\\n",
      "0                 0.02     High Risk 2024-01-01               0   \n",
      "1                -0.03     High Risk 2024-02-01               1   \n",
      "2                -0.04     High Risk 2024-03-01               1   \n",
      "3                -0.04     High Risk 2024-04-01               0   \n",
      "4                 0.01     High Risk 2024-05-01               0   \n",
      "\n",
      "   Savings_Lag_1  Savings_Lag_2  Savings_Rolling_Mean_3  \\\n",
      "0            NaN            NaN                     NaN   \n",
      "1         4078.0            NaN                     NaN   \n",
      "2        -7701.0         4078.0            -1741.666667   \n",
      "3        -1602.0        -7701.0            -5570.666667   \n",
      "4        -7409.0        -1602.0            -5639.000000   \n",
      "\n",
      "   Expense_to_Salary_Ratio  \n",
      "0                 0.952908  \n",
      "1                 1.088930  \n",
      "2                 1.018500  \n",
      "3                 1.085558  \n",
      "4                 1.091298  \n"
     ]
    }
   ],
   "source": [
    "print(df.head())"
   ]
  },
  {
   "cell_type": "code",
   "execution_count": 413,
   "metadata": {},
   "outputs": [
    {
     "name": "stdout",
     "output_type": "stream",
     "text": [
      "  User_ID  Year  Month                               Scenario  Salary  \\\n",
      "0    U001  2024      3  Stable Salary & Stable Fixed Expenses   86596   \n",
      "1    U001  2024      4  Stable Salary & Stable Fixed Expenses   86596   \n",
      "2    U001  2024      5  Stable Salary & Stable Fixed Expenses   86596   \n",
      "3    U001  2024      6  Stable Salary & Stable Fixed Expenses   86596   \n",
      "4    U001  2024      7  Stable Salary & Stable Fixed Expenses   86596   \n",
      "\n",
      "   Fixed_Expenses  Variable_Expenses  Total_Expenses  Savings  Savings_Rate  \\\n",
      "0         26645.0              61553         88198.0  -1602.0         -1.85   \n",
      "1         26645.0              67360         94005.0  -7409.0         -8.56   \n",
      "2         26645.0              67857         94502.0  -7906.0         -9.13   \n",
      "3         26645.0              56433         83078.0   3518.0          4.06   \n",
      "4         26645.0              58213         84858.0   1738.0          2.01   \n",
      "\n",
      "   Expense_Fluctuation Risk_Category       Date  Festive_Season  \\\n",
      "0                -0.04     High Risk 2024-03-01               1   \n",
      "1                -0.04     High Risk 2024-04-01               0   \n",
      "2                 0.01     High Risk 2024-05-01               0   \n",
      "3                 0.03     High Risk 2024-06-01               0   \n",
      "4                 0.01     High Risk 2024-07-01               0   \n",
      "\n",
      "   Savings_Lag_1  Savings_Lag_2  Savings_Rolling_Mean_3  \\\n",
      "0        -7701.0         4078.0            -1741.666667   \n",
      "1        -1602.0        -7701.0            -5570.666667   \n",
      "2        -7409.0        -1602.0            -5639.000000   \n",
      "3        -7906.0        -7409.0            -3932.333333   \n",
      "4         3518.0        -7906.0             -883.333333   \n",
      "\n",
      "   Expense_to_Salary_Ratio  \n",
      "0                 1.018500  \n",
      "1                 1.085558  \n",
      "2                 1.091298  \n",
      "3                 0.959375  \n",
      "4                 0.979930  \n"
     ]
    }
   ],
   "source": [
    "# Drop rows with NaN (caused by lag features)\n",
    "df = df.dropna().reset_index(drop=True)\n",
    "print(df.head())"
   ]
  },
  {
   "cell_type": "code",
   "execution_count": 414,
   "metadata": {},
   "outputs": [],
   "source": [
    "# Train: Jan-Aug 2024 + Past Festive Data (Feb, March, Sep-Dec)\n",
    "train = df[(df['Date'] < '2024-09-01') | (df['Festive_Season'] == 1)]\n",
    "\n",
    "# Test: Sep-Dec 2024\n",
    "test = df[df['Date'] >= '2024-09-01']"
   ]
  },
  {
   "cell_type": "code",
   "execution_count": 415,
   "metadata": {},
   "outputs": [],
   "source": [
    "# Drop unnecessary columns\n",
    "# df.drop(columns=['Year', 'Month', 'Date'], inplace=True)"
   ]
  },
  {
   "cell_type": "code",
   "execution_count": 416,
   "metadata": {},
   "outputs": [],
   "source": [
    "features = ['Salary', 'Fixed_Expenses', 'Variable_Expenses', 'Savings_Lag_1', 'Savings_Lag_2', 'Savings_Rolling_Mean_3', 'Festive_Season']\n",
    "target = 'Savings'"
   ]
  },
  {
   "cell_type": "code",
   "execution_count": 417,
   "metadata": {},
   "outputs": [],
   "source": [
    "X_train, y_train = train[features], train[target]\n",
    "X_test, y_test = test[features], test[target]"
   ]
  },
  {
   "cell_type": "code",
   "execution_count": 418,
   "metadata": {},
   "outputs": [],
   "source": [
    "# 🔹 XGBoost Model Training\n",
    "xgb_model = xgb.XGBRegressor(\n",
    "    objective='reg:squarederror',\n",
    "    n_estimators=200,\n",
    "    learning_rate=0.05,\n",
    "    max_depth=6,\n",
    "    subsample=0.8,\n",
    "    colsample_bytree=0.8,\n",
    "    random_state=42\n",
    ")"
   ]
  },
  {
   "cell_type": "code",
   "execution_count": 419,
   "metadata": {},
   "outputs": [],
   "source": [
    "xgb_model.fit(X_train, y_train)\n",
    "\n"
   ]
  },
  {
   "cell_type": "code",
   "execution_count": null,
   "metadata": {},
   "outputs": [],
   "source": [
    "# 🔹 Predictions\n",
    "y_pred = xgb_model.predict(X_test)\n",
    "\n",
    "# 🔹 Evaluation Metrics\n",
    "mae = mean_absolute_error(y_test, y_pred)\n",
    "rmse = np.sqrt(mean_squared_error(y_test, y_pred))\n",
    "r2 = r2_score(y_test, y_pred)"
   ]
  },
  {
   "cell_type": "code",
   "execution_count": 420,
   "metadata": {},
   "outputs": [
    {
     "name": "stdout",
     "output_type": "stream",
     "text": [
      "📌 Model Performance:\n",
      "✅ Mean Absolute Error (MAE): 2070.79\n",
      "✅ Root Mean Squared Error (RMSE): 2643.59\n",
      "✅ R² Score: 0.99\n"
     ]
    }
   ],
   "source": [
    "print(f\"📌 Model Performance:\")\n",
    "print(f\"✅ Mean Absolute Error (MAE): {mae:.2f}\")\n",
    "print(f\"✅ Root Mean Squared Error (RMSE): {rmse:.2f}\")\n",
    "print(f\"✅ R² Score: {r2:.2f}\")"
   ]
  },
  {
   "cell_type": "code",
   "execution_count": 421,
   "metadata": {},
   "outputs": [
    {
     "name": "stdout",
     "output_type": "stream",
     "text": [
      "📌 Savings Prediction for U008:\n",
      "    Month  Actual_Savings  Predicted_Savings\n",
      "76      9         53429.0       53382.996094\n",
      "77     10         50186.0       52555.347656\n",
      "78     11         51393.0       52170.710938\n",
      "79     12         48918.0       50042.765625\n"
     ]
    },
    {
     "data": {
      "image/png": "[encoded data removed]",
      "text/plain": [
       "<Figure size 1000x500 with 1 Axes>"
      ]
     },
     "metadata": {},
     "output_type": "display_data"
    }
   ],
   "source": [
    "import matplotlib.pyplot as plt\n",
    "import pandas as pd\n",
    "\n",
    "def test_user_savings(user_id):\n",
    "    \"\"\"\n",
    "    Function to test XGBoost savings prediction for a given user.\n",
    "    \"\"\"\n",
    "    # Extract user data from the test set\n",
    "    user_test_data = X_test[df.loc[X_test.index, 'User_ID'] == user_id]\n",
    "    actual_savings = y_test[df.loc[y_test.index, 'User_ID'] == user_id]\n",
    "\n",
    "    # Predict savings for the user\n",
    "    predicted_savings = xgb_model.predict(user_test_data)\n",
    "\n",
    "    # Create DataFrame for comparison\n",
    "    user_comparison = pd.DataFrame({\n",
    "        \"Month\": df.loc[user_test_data.index, \"Month\"],\n",
    "        \"Actual_Savings\": actual_savings.values,\n",
    "        \"Predicted_Savings\": predicted_savings\n",
    "    }).sort_values(by=\"Month\")\n",
    "\n",
    "    print(f\"📌 Savings Prediction for {user_id}:\")\n",
    "    print(user_comparison)\n",
    "\n",
    "    # Plot Actual vs. Predicted Savings\n",
    "    plt.figure(figsize=(10, 5))\n",
    "    plt.plot(user_comparison[\"Month\"], user_comparison[\"Actual_Savings\"], marker='o', label=\"Actual Savings\", color=\"blue\")\n",
    "    plt.plot(user_comparison[\"Month\"], user_comparison[\"Predicted_Savings\"], marker='s', label=\"Predicted Savings\", color=\"red\", linestyle=\"dashed\")\n",
    "\n",
    "    plt.xlabel(\"Month\")\n",
    "    plt.ylabel(\"Savings (₹)\")\n",
    "    plt.title(f\"Actual vs Predicted Savings for {user_id}\")\n",
    "    plt.legend()\n",
    "    plt.grid()\n",
    "    plt.show()\n",
    "\n",
    "# Example Usage: Test savings prediction for different users\n",
    "test_user_savings(\"U008\")  # Change user_id to test different users\n"
   ]
  },
  {
   "cell_type": "code",
   "execution_count": 422,
   "metadata": {},
   "outputs": [
    {
     "name": "stdout",
     "output_type": "stream",
     "text": [
      "📌 Savings Analysis for U002:\n",
      "    Month  Actual_Savings  Predicted_Savings  Needed_Savings\n",
      "16      9         49534.0       47961.406250         49534.0\n",
      "17     10         50799.0       46739.902344         50799.0\n",
      "18     11         52670.0       49966.550781         52670.0\n",
      "19     12         25429.0       25324.101562         25429.0\n"
     ]
    },
    {
     "data": {
      "image/png": "[encoded data removed]",
      "text/plain": [
       "<Figure size 1000x500 with 1 Axes>"
      ]
     },
     "metadata": {},
     "output_type": "display_data"
    }
   ],
   "source": [
    "import matplotlib.pyplot as plt\n",
    "import pandas as pd\n",
    "\n",
    "def predict_needed_savings(user_id):\n",
    "    \"\"\"\n",
    "    Function to check predicted savings vs. needed savings for a user.\n",
    "    \"\"\"\n",
    "    # Extract user data from the test set\n",
    "    user_test_data = X_test[df.loc[X_test.index, 'User_ID'] == user_id]\n",
    "    actual_savings = y_test[df.loc[y_test.index, 'User_ID'] == user_id]\n",
    "\n",
    "    # Predict savings for the user\n",
    "    predicted_savings = xgb_model.predict(user_test_data)\n",
    "\n",
    "    # Get salary and expenses data\n",
    "    user_salary = df.loc[user_test_data.index, \"Salary\"]\n",
    "    user_fixed_expenses = df.loc[user_test_data.index, \"Fixed_Expenses\"]\n",
    "    user_variable_expenses = df.loc[user_test_data.index, \"Variable_Expenses\"]\n",
    "\n",
    "    # Calculate Needed Savings (Ideal Savings Based on Expenses)\n",
    "    needed_savings = user_salary - (user_fixed_expenses + user_variable_expenses)\n",
    "\n",
    "    # Create DataFrame for comparison\n",
    "    user_comparison = pd.DataFrame({\n",
    "        \"Month\": df.loc[user_test_data.index, \"Month\"],\n",
    "        \"Actual_Savings\": actual_savings.values,\n",
    "        \"Predicted_Savings\": predicted_savings,\n",
    "        \"Needed_Savings\": needed_savings.values\n",
    "    }).sort_values(by=\"Month\")\n",
    "\n",
    "    print(f\"📌 Savings Analysis for {user_id}:\")\n",
    "    print(user_comparison)\n",
    "\n",
    "    # Plot Actual vs. Predicted vs. Needed Savings\n",
    "    plt.figure(figsize=(10, 5))\n",
    "    plt.plot(user_comparison[\"Month\"], user_comparison[\"Actual_Savings\"], marker='o', label=\"Actual Savings\", color=\"blue\")\n",
    "    plt.plot(user_comparison[\"Month\"], user_comparison[\"Predicted_Savings\"], marker='s', label=\"Predicted Savings\", color=\"red\", linestyle=\"dashed\")\n",
    "    plt.plot(user_comparison[\"Month\"], user_comparison[\"Needed_Savings\"], marker='^', label=\"Needed Savings\", color=\"green\", linestyle=\"dotted\")\n",
    "\n",
    "    plt.xlabel(\"Month\")\n",
    "    plt.ylabel(\"Savings (₹)\")\n",
    "    plt.title(f\"Savings Analysis for {user_id}\")\n",
    "    plt.legend()\n",
    "    plt.grid()\n",
    "    plt.show()\n",
    "\n",
    "# Example Usage: Test needed savings for different users\n",
    "predict_needed_savings(\"U002\")  # Change user_id to test different users\n"
   ]
  },
  {
   "cell_type": "code",
   "execution_count": 423,
   "metadata": {},
   "outputs": [
    {
     "name": "stdout",
     "output_type": "stream",
     "text": [
      "📌 Prediction for U008 in Jan 2025:\n",
      "✅ Predicted Savings: ₹7009.97\n",
      "✅ Needed Savings: ₹48918.00\n",
      "⚠️ The user needs to save ₹41908.03 more to meet their required savings.\n"
     ]
    }
   ],
   "source": [
    "import pandas as pd\n",
    "\n",
    "def predict_next_month_savings(user_id, salary=None, fixed_expenses=None, variable_expenses=None, scenario=None):\n",
    "    \"\"\"\n",
    "    Predict savings for Jan 2025 for a specific user.\n",
    "    If salary, expenses, or scenario are not provided, it uses the last available values.\n",
    "    \"\"\"\n",
    "    # Get the user's last available data (Dec 2024)\n",
    "    user_last_data = df[df[\"User_ID\"] == user_id].sort_values(by=[\"Year\", \"Month\"]).iloc[-1]\n",
    "\n",
    "    # Use provided values or default to the last known values\n",
    "    salary = salary if salary else user_last_data[\"Salary\"]\n",
    "    fixed_expenses = fixed_expenses if fixed_expenses else user_last_data[\"Fixed_Expenses\"]\n",
    "    variable_expenses = variable_expenses if variable_expenses else user_last_data[\"Variable_Expenses\"]\n",
    "    scenario = scenario if scenario else user_last_data[\"Scenario\"]\n",
    "\n",
    "    # Create input data for Jan 2025\n",
    "    jan_2025_data = pd.DataFrame({\n",
    "        \"User_ID\": [user_id],\n",
    "        \"Year\": [2025],\n",
    "        \"Month\": [1],  # January\n",
    "        \"Salary\": [salary],\n",
    "        \"Fixed_Expenses\": [fixed_expenses],\n",
    "        \"Variable_Expenses\": [variable_expenses],\n",
    "        \"Total_Expenses\": [fixed_expenses + variable_expenses],\n",
    "        \"Scenario\": [scenario]\n",
    "    })\n",
    "\n",
    "    # One-hot encode Scenario (if needed)\n",
    "    jan_2025_data = pd.get_dummies(jan_2025_data, columns=[\"Scenario\"], drop_first=True)\n",
    "\n",
    "    # Ensure the feature set matches the training data\n",
    "    missing_cols = set(X_train.columns) - set(jan_2025_data.columns)\n",
    "    for col in missing_cols:\n",
    "        jan_2025_data[col] = 0  # Add missing one-hot encoded columns with default 0\n",
    "\n",
    "    # Align feature order\n",
    "    jan_2025_data = jan_2025_data[X_train.columns]\n",
    "\n",
    "    # Predict savings for Jan 2025\n",
    "    predicted_savings = xgb_model.predict(jan_2025_data)[0]\n",
    "\n",
    "    # Calculate Needed Savings\n",
    "    needed_savings = salary - (fixed_expenses + variable_expenses)\n",
    "\n",
    "    print(f\"📌 Prediction for {user_id} in Jan 2025:\")\n",
    "    print(f\"✅ Predicted Savings: ₹{predicted_savings:.2f}\")\n",
    "    print(f\"✅ Needed Savings: ₹{needed_savings:.2f}\")\n",
    "    \n",
    "    if predicted_savings >= needed_savings:\n",
    "        print(\"🎯 The predicted savings meet or exceed the needed savings. Well done!\")\n",
    "    else:\n",
    "        shortfall = needed_savings - predicted_savings\n",
    "        print(f\"⚠️ The user needs to save ₹{shortfall:.2f} more to meet their required savings.\")\n",
    "\n",
    "# Example Usage: Predict savings for u030 in Jan 2025\n",
    "predict_next_month_savings(\"U002\")\n"
   ]
  },
  {
   "cell_type": "code",
   "execution_count": null,
   "metadata": {},
   "outputs": [],
   "source": []
  },
  {
   "cell_type": "code",
   "execution_count": 424,
   "metadata": {},
   "outputs": [
    {
     "ename": "KeyError",
     "evalue": "\"None of [Index(['Scenario'], dtype='object')] are in the [columns]\"",
     "output_type": "error",
     "traceback": [
      "\u001b[1;31m---------------------------------------------------------------------------\u001b[0m",
      "\u001b[1;31mKeyError\u001b[0m                                  Traceback (most recent call last)",
      "Cell \u001b[1;32mIn[424], line 58\u001b[0m\n\u001b[0;32m     55\u001b[0m         \u001b[38;5;28mprint\u001b[39m(\u001b[38;5;124mf\u001b[39m\u001b[38;5;124m\"\u001b[39m\u001b[38;5;124m🎯 The suggested savings are realistic and achievable!\u001b[39m\u001b[38;5;124m\"\u001b[39m)\n\u001b[0;32m     57\u001b[0m \u001b[38;5;66;03m# Example Usage:\u001b[39;00m\n\u001b[1;32m---> 58\u001b[0m \u001b[43mpredict_smart_savings\u001b[49m\u001b[43m(\u001b[49m\u001b[38;5;124;43m\"\u001b[39;49m\u001b[38;5;124;43mU001\u001b[39;49m\u001b[38;5;124;43m\"\u001b[39;49m\u001b[43m)\u001b[49m\n",
      "Cell \u001b[1;32mIn[424], line 29\u001b[0m, in \u001b[0;36mpredict_smart_savings\u001b[1;34m(user_id)\u001b[0m\n\u001b[0;32m     18\u001b[0m jan_2025_data \u001b[38;5;241m=\u001b[39m pd\u001b[38;5;241m.\u001b[39mDataFrame({\n\u001b[0;32m     19\u001b[0m     \u001b[38;5;124m\"\u001b[39m\u001b[38;5;124mUser_ID\u001b[39m\u001b[38;5;124m\"\u001b[39m: [user_id],\n\u001b[0;32m     20\u001b[0m     \u001b[38;5;124m\"\u001b[39m\u001b[38;5;124mYear\u001b[39m\u001b[38;5;124m\"\u001b[39m: [\u001b[38;5;241m2025\u001b[39m],\n\u001b[1;32m   (...)\u001b[0m\n\u001b[0;32m     25\u001b[0m     \u001b[38;5;124m\"\u001b[39m\u001b[38;5;124mTotal_Expenses\u001b[39m\u001b[38;5;124m\"\u001b[39m: [last_fixed_expenses \u001b[38;5;241m+\u001b[39m last_variable_expenses]\n\u001b[0;32m     26\u001b[0m })\n\u001b[0;32m     28\u001b[0m \u001b[38;5;66;03m# One-hot encode Scenario if necessary\u001b[39;00m\n\u001b[1;32m---> 29\u001b[0m jan_2025_data \u001b[38;5;241m=\u001b[39m \u001b[43mpd\u001b[49m\u001b[38;5;241;43m.\u001b[39;49m\u001b[43mget_dummies\u001b[49m\u001b[43m(\u001b[49m\u001b[43mjan_2025_data\u001b[49m\u001b[43m,\u001b[49m\u001b[43m \u001b[49m\u001b[43mcolumns\u001b[49m\u001b[38;5;241;43m=\u001b[39;49m\u001b[43m[\u001b[49m\u001b[38;5;124;43m\"\u001b[39;49m\u001b[38;5;124;43mScenario\u001b[39;49m\u001b[38;5;124;43m\"\u001b[39;49m\u001b[43m]\u001b[49m\u001b[43m,\u001b[49m\u001b[43m \u001b[49m\u001b[43mdrop_first\u001b[49m\u001b[38;5;241;43m=\u001b[39;49m\u001b[38;5;28;43;01mTrue\u001b[39;49;00m\u001b[43m)\u001b[49m\n\u001b[0;32m     31\u001b[0m \u001b[38;5;66;03m# Align with training features\u001b[39;00m\n\u001b[0;32m     32\u001b[0m \u001b[38;5;28;01mfor\u001b[39;00m col \u001b[38;5;129;01min\u001b[39;00m \u001b[38;5;28mset\u001b[39m(X_train\u001b[38;5;241m.\u001b[39mcolumns) \u001b[38;5;241m-\u001b[39m \u001b[38;5;28mset\u001b[39m(jan_2025_data\u001b[38;5;241m.\u001b[39mcolumns):\n",
      "File \u001b[1;32m~\\AppData\\Roaming\\Python\\Python312\\site-packages\\pandas\\core\\reshape\\encoding.py:169\u001b[0m, in \u001b[0;36mget_dummies\u001b[1;34m(data, prefix, prefix_sep, dummy_na, columns, sparse, drop_first, dtype)\u001b[0m\n\u001b[0;32m    167\u001b[0m     \u001b[38;5;28;01mraise\u001b[39;00m \u001b[38;5;167;01mTypeError\u001b[39;00m(\u001b[38;5;124m\"\u001b[39m\u001b[38;5;124mInput must be a list-like for parameter `columns`\u001b[39m\u001b[38;5;124m\"\u001b[39m)\n\u001b[0;32m    168\u001b[0m \u001b[38;5;28;01melse\u001b[39;00m:\n\u001b[1;32m--> 169\u001b[0m     data_to_encode \u001b[38;5;241m=\u001b[39m \u001b[43mdata\u001b[49m\u001b[43m[\u001b[49m\u001b[43mcolumns\u001b[49m\u001b[43m]\u001b[49m\n\u001b[0;32m    171\u001b[0m \u001b[38;5;66;03m# validate prefixes and separator to avoid silently dropping cols\u001b[39;00m\n\u001b[0;32m    172\u001b[0m \u001b[38;5;28;01mdef\u001b[39;00m \u001b[38;5;21mcheck_len\u001b[39m(item, name: \u001b[38;5;28mstr\u001b[39m):\n",
      "File \u001b[1;32m~\\AppData\\Roaming\\Python\\Python312\\site-packages\\pandas\\core\\frame.py:4108\u001b[0m, in \u001b[0;36mDataFrame.__getitem__\u001b[1;34m(self, key)\u001b[0m\n\u001b[0;32m   4106\u001b[0m     \u001b[38;5;28;01mif\u001b[39;00m is_iterator(key):\n\u001b[0;32m   4107\u001b[0m         key \u001b[38;5;241m=\u001b[39m \u001b[38;5;28mlist\u001b[39m(key)\n\u001b[1;32m-> 4108\u001b[0m     indexer \u001b[38;5;241m=\u001b[39m \u001b[38;5;28;43mself\u001b[39;49m\u001b[38;5;241;43m.\u001b[39;49m\u001b[43mcolumns\u001b[49m\u001b[38;5;241;43m.\u001b[39;49m\u001b[43m_get_indexer_strict\u001b[49m\u001b[43m(\u001b[49m\u001b[43mkey\u001b[49m\u001b[43m,\u001b[49m\u001b[43m \u001b[49m\u001b[38;5;124;43m\"\u001b[39;49m\u001b[38;5;124;43mcolumns\u001b[39;49m\u001b[38;5;124;43m\"\u001b[39;49m\u001b[43m)\u001b[49m[\u001b[38;5;241m1\u001b[39m]\n\u001b[0;32m   4110\u001b[0m \u001b[38;5;66;03m# take() does not accept boolean indexers\u001b[39;00m\n\u001b[0;32m   4111\u001b[0m \u001b[38;5;28;01mif\u001b[39;00m \u001b[38;5;28mgetattr\u001b[39m(indexer, \u001b[38;5;124m\"\u001b[39m\u001b[38;5;124mdtype\u001b[39m\u001b[38;5;124m\"\u001b[39m, \u001b[38;5;28;01mNone\u001b[39;00m) \u001b[38;5;241m==\u001b[39m \u001b[38;5;28mbool\u001b[39m:\n",
      "File \u001b[1;32m~\\AppData\\Roaming\\Python\\Python312\\site-packages\\pandas\\core\\indexes\\base.py:6200\u001b[0m, in \u001b[0;36mIndex._get_indexer_strict\u001b[1;34m(self, key, axis_name)\u001b[0m\n\u001b[0;32m   6197\u001b[0m \u001b[38;5;28;01melse\u001b[39;00m:\n\u001b[0;32m   6198\u001b[0m     keyarr, indexer, new_indexer \u001b[38;5;241m=\u001b[39m \u001b[38;5;28mself\u001b[39m\u001b[38;5;241m.\u001b[39m_reindex_non_unique(keyarr)\n\u001b[1;32m-> 6200\u001b[0m \u001b[38;5;28;43mself\u001b[39;49m\u001b[38;5;241;43m.\u001b[39;49m\u001b[43m_raise_if_missing\u001b[49m\u001b[43m(\u001b[49m\u001b[43mkeyarr\u001b[49m\u001b[43m,\u001b[49m\u001b[43m \u001b[49m\u001b[43mindexer\u001b[49m\u001b[43m,\u001b[49m\u001b[43m \u001b[49m\u001b[43maxis_name\u001b[49m\u001b[43m)\u001b[49m\n\u001b[0;32m   6202\u001b[0m keyarr \u001b[38;5;241m=\u001b[39m \u001b[38;5;28mself\u001b[39m\u001b[38;5;241m.\u001b[39mtake(indexer)\n\u001b[0;32m   6203\u001b[0m \u001b[38;5;28;01mif\u001b[39;00m \u001b[38;5;28misinstance\u001b[39m(key, Index):\n\u001b[0;32m   6204\u001b[0m     \u001b[38;5;66;03m# GH 42790 - Preserve name from an Index\u001b[39;00m\n",
      "File \u001b[1;32m~\\AppData\\Roaming\\Python\\Python312\\site-packages\\pandas\\core\\indexes\\base.py:6249\u001b[0m, in \u001b[0;36mIndex._raise_if_missing\u001b[1;34m(self, key, indexer, axis_name)\u001b[0m\n\u001b[0;32m   6247\u001b[0m \u001b[38;5;28;01mif\u001b[39;00m nmissing:\n\u001b[0;32m   6248\u001b[0m     \u001b[38;5;28;01mif\u001b[39;00m nmissing \u001b[38;5;241m==\u001b[39m \u001b[38;5;28mlen\u001b[39m(indexer):\n\u001b[1;32m-> 6249\u001b[0m         \u001b[38;5;28;01mraise\u001b[39;00m \u001b[38;5;167;01mKeyError\u001b[39;00m(\u001b[38;5;124mf\u001b[39m\u001b[38;5;124m\"\u001b[39m\u001b[38;5;124mNone of [\u001b[39m\u001b[38;5;132;01m{\u001b[39;00mkey\u001b[38;5;132;01m}\u001b[39;00m\u001b[38;5;124m] are in the [\u001b[39m\u001b[38;5;132;01m{\u001b[39;00maxis_name\u001b[38;5;132;01m}\u001b[39;00m\u001b[38;5;124m]\u001b[39m\u001b[38;5;124m\"\u001b[39m)\n\u001b[0;32m   6251\u001b[0m     not_found \u001b[38;5;241m=\u001b[39m \u001b[38;5;28mlist\u001b[39m(ensure_index(key)[missing_mask\u001b[38;5;241m.\u001b[39mnonzero()[\u001b[38;5;241m0\u001b[39m]]\u001b[38;5;241m.\u001b[39munique())\n\u001b[0;32m   6252\u001b[0m     \u001b[38;5;28;01mraise\u001b[39;00m \u001b[38;5;167;01mKeyError\u001b[39;00m(\u001b[38;5;124mf\u001b[39m\u001b[38;5;124m\"\u001b[39m\u001b[38;5;132;01m{\u001b[39;00mnot_found\u001b[38;5;132;01m}\u001b[39;00m\u001b[38;5;124m not in index\u001b[39m\u001b[38;5;124m\"\u001b[39m)\n",
      "\u001b[1;31mKeyError\u001b[0m: \"None of [Index(['Scenario'], dtype='object')] are in the [columns]\""
     ]
    }
   ],
   "source": [
    "import numpy as np\n",
    "\n",
    "def predict_smart_savings(user_id):\n",
    "    \"\"\"\n",
    "    Predict a realistic and achievable savings amount for the next month.\n",
    "    Adjusts predictions to avoid negative savings and suggests practical saving strategies.\n",
    "    \"\"\"\n",
    "    # Get user's last 12 months of data\n",
    "    user_data = df[df[\"User_ID\"] == user_id].sort_values(by=[\"Year\", \"Month\"]).tail(12)\n",
    "\n",
    "    # Get the latest salary, expenses, and scenario\n",
    "    last_salary = user_data[\"Salary\"].iloc[-1]\n",
    "    last_fixed_expenses = user_data[\"Fixed_Expenses\"].iloc[-1]\n",
    "    last_variable_expenses = user_data[\"Variable_Expenses\"].iloc[-1]\n",
    "    last_total_expenses = user_data[\"Total_Expenses\"].iloc[-1]\n",
    "\n",
    "    # Prepare input for Jan 2025 prediction\n",
    "    jan_2025_data = pd.DataFrame({\n",
    "        \"User_ID\": [user_id],\n",
    "        \"Year\": [2025],\n",
    "        \"Month\": [1],  # January\n",
    "        \"Salary\": [last_salary],\n",
    "        \"Fixed_Expenses\": [last_fixed_expenses],\n",
    "        \"Variable_Expenses\": [last_variable_expenses],\n",
    "        \"Total_Expenses\": [last_fixed_expenses + last_variable_expenses]\n",
    "    })\n",
    "\n",
    "    # One-hot encode Scenario if necessary\n",
    "    jan_2025_data = pd.get_dummies(jan_2025_data, columns=[\"Scenario\"], drop_first=True)\n",
    "\n",
    "    # Align with training features\n",
    "    for col in set(X_train.columns) - set(jan_2025_data.columns):\n",
    "        jan_2025_data[col] = 0\n",
    "    jan_2025_data = jan_2025_data[X_train.columns]\n",
    "\n",
    "    # Predict savings for Jan 2025\n",
    "    predicted_savings = xgb_model.predict(jan_2025_data)[0]\n",
    "\n",
    "    # Calculate Needed Savings\n",
    "    needed_savings = last_salary - last_total_expenses\n",
    "\n",
    "    # Adjust unrealistic predictions:\n",
    "    if predicted_savings < 0:\n",
    "        adjusted_savings = max(needed_savings * 0.5, 500)  # Ensure a minimum savings target\n",
    "    else:\n",
    "        adjusted_savings = predicted_savings\n",
    "\n",
    "    print(f\"📌 Smart Prediction for {user_id} in Jan 2025:\")\n",
    "    print(f\"✅ Predicted Savings: ₹{predicted_savings:.2f}\")\n",
    "    print(f\"✅ Adjusted Savings Suggestion: ₹{adjusted_savings:.2f}\")\n",
    "\n",
    "    if adjusted_savings < needed_savings:\n",
    "        print(f\"⚠️ Suggested savings are lower than needed! Reduce expenses or plan ahead.\")\n",
    "    else:\n",
    "        print(f\"🎯 The suggested savings are realistic and achievable!\")\n",
    "\n",
    "# Example Usage:\n",
    "predict_smart_savings(\"U001\")\n"
   ]
  }
 ],
 "metadata": {
  "kernelspec": {
   "display_name": "Python 3",
   "language": "python",
   "name": "python3"
  },
  "language_info": {
   "codemirror_mode": {
    "name": "ipython",
    "version": 3
   },
   "file_extension": ".py",
   "mimetype": "text/x-python",
   "name": "python",
   "nbconvert_exporter": "python",
   "pygments_lexer": "ipython3",
   "version": "3.12.2"
  }
 },
 "nbformat": 4,
 "nbformat_minor": 2
}
